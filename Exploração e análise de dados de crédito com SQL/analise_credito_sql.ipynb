{
  "cells": [
    {
      "cell_type": "markdown",
      "metadata": {},
      "source": [
        "<img src=\"https://raw.githubusercontent.com/AugustoInData/AugustoInData/refs/heads/main/images/imgens_projeto_analise_de_cr%C3%A9dito_com_sql/cabecalho.png\" alt=\"cabecalho\">"
      ]
    },
    {
      "cell_type": "markdown",
      "metadata": {
        "id": "lINcZI_nYCCE"
      },
      "source": [
        "# Exploração e análise de dados de crédito com SQL\n",
        "por Carlos Augusto"
      ]
    },
    {
      "cell_type": "markdown",
      "metadata": {
        "id": "3Djkhc3_iUe2"
      },
      "source": [
        "# Introdução"
      ]
    },
    {
      "cell_type": "markdown",
      "metadata": {
        "id": "AMcS_0a-iSA-"
      },
      "source": [
        "Este projeto tem como objetivo realizar uma análise exploratória de dados (EDA) sobre informações de crédito, buscando compreender o perfil dos clientes, identificar padrões de comportamento financeiro e detectar possíveis fatores que influenciam a concessão ou inadimplência de crédito.\n",
        "\n",
        "A partir da exploração dos dados, serão analisadas variáveis como renda, idade, histórico de pagamento, limite de crédito e pontuação de risco, permitindo gerar insights que auxiliem na tomada de decisão e na construção de modelos preditivos mais assertivos.\n",
        "\n",
        "Essa etapa é fundamental para garantir a qualidade, consistência e relevância dos dados, além de orientar as próximas fases de modelagem e análise estatística."
      ]
    },
    {
      "cell_type": "markdown",
      "metadata": {
        "id": "Fr6yo2ibcUdH"
      },
      "source": [
        "# Os dados:\n",
        "**Os dados representam informações de clientes de um banco e contam com as seguintes colunas:**\n",
        "\n",
        "idade = idade do cliente\n",
        "\n",
        "sexo = sexo do cliente (F ou M)\n",
        "\n",
        "dependentes = número de dependentes do cliente\n",
        "\n",
        "escolaridade = nível de escolaridade do clientes\n",
        "\n",
        "salario_anual = faixa salarial do cliente\n",
        "\n",
        "tipo_cartao = tipo de cartao do cliente\n",
        "\n",
        "qtd_produtos = quantidade de produtos comprados nos últimos 12 meses\n",
        "\n",
        "iteracoes_12m = quantidade de iterações/transacoes nos ultimos 12 meses\n",
        "\n",
        "meses_inativo_12m = quantidade de meses que o cliente ficou inativo\n",
        "\n",
        "limite_credito = limite de credito do cliente\n",
        "\n",
        "valor_transacoes_12m = valor das transações dos ultimos 12 meses\n",
        "\n",
        "qtd_transacoes_12m = quantidade de transacoes dos ultimos 12 meses"
      ]
    },
    {
      "cell_type": "markdown",
      "metadata": {
        "id": "KKH6NFM3dBQu"
      },
      "source": [
        "A tabela foi criada no AWS Athena junto com o S3 Bucket com uma versão dos dados disponibilizados em: https://github.com/andre-marcos-perez/ebac-course-utils/tree/main/dataset"
      ]
    },
    {
      "cell_type": "markdown",
      "metadata": {
        "id": "1rQzgrr0dIaB"
      },
      "source": [
        "# Exploração de dados:"
      ]
    },
    {
      "cell_type": "markdown",
      "metadata": {
        "id": "hksxxTGTdLdP"
      },
      "source": [
        "A primeira fase da análise é entender o que tem na nossa matéria prima. Vamos a exploração de dados:"
      ]
    },
    {
      "cell_type": "markdown",
      "metadata": {
        "id": "Dyo3CnM2ir9g"
      },
      "source": [
        "**Qual a quantidade de informações temos na nossa base de dados?**"
      ]
    },
    {
      "cell_type": "markdown",
      "metadata": {},
      "source": [
        "<img src=\"https://raw.githubusercontent.com/AugustoInData/AugustoInData/refs/heads/main/images/imgens_projeto_analise_de_cr%C3%A9dito_com_sql/1%20-%20qtd_linhas.PNG\" alt=\"qtd_linhas\">\n",
        "\n",
        "Query: SELECT count(*) FROM credito"
      ]
    },
    {
      "cell_type": "markdown",
      "metadata": {
        "id": "-kK2uA6rjq1I"
      },
      "source": [
        "**Como estão organizados os dados que iremos utilizar?**"
      ]
    },
    {
      "cell_type": "markdown",
      "metadata": {},
      "source": [
        "\n",
        "\n",
        "<img src=\"https://raw.githubusercontent.com/AugustoInData/AugustoInData/refs/heads/main/images/imgens_projeto_analise_de_cr%C3%A9dito_com_sql/2%20-%20organiza%C3%A7%C3%A3o%20dos%20dados.PNG\" alt=\"organizacao_dos_dados\">\n",
        "\n",
        "Query: SELECT * FROM credito LIMIT 10"
      ]
    },
    {
      "cell_type": "markdown",
      "metadata": {
        "id": "JDJ52l98k3zV"
      },
      "source": [
        "É possível observar que a tabela contém alguns valores ausentes (Na). Vamos analisar mais detalhadamente os dados de cada coluna para entender melhor essas ausências.\n"
      ]
    },
    {
      "cell_type": "markdown",
      "metadata": {
        "id": "h7hI3LlhlGhb"
      },
      "source": [
        "**Quais os tipos de cada dado?**"
      ]
    },
    {
      "cell_type": "markdown",
      "metadata": {},
      "source": [
        "<img src=\"https://raw.githubusercontent.com/AugustoInData/AugustoInData/refs/heads/main/images/imgens_projeto_analise_de_cr%C3%A9dito_com_sql/3%20-%20describe.PNG\" alt=\"describe\">\n",
        "\n",
        "Query: DESCRIBE credito"
      ]
    },
    {
      "cell_type": "markdown",
      "metadata": {
        "id": "61IzBq3cmNRl"
      },
      "source": [
        "Agora que já identificamos os tipos de dados presentes, vamos examinar com mais atenção as variáveis que não são numéricas."
      ]
    },
    {
      "cell_type": "markdown",
      "metadata": {
        "id": "fIqrL1QGmS3_"
      },
      "source": [
        "**Quais são os tipos de escolaridade disponíveis no dataset?**"
      ]
    },
    {
      "cell_type": "markdown",
      "metadata": {},
      "source": [
        "<img src=\"https://raw.githubusercontent.com/AugustoInData/AugustoInData/refs/heads/main/images/imgens_projeto_analise_de_cr%C3%A9dito_com_sql/4%20-%20escolaridade.PNG\" alt=\"escolaridade\">\n",
        "\n",
        "Query: SELECT DISTINCT escolaridade FROM credito"
      ]
    },
    {
      "cell_type": "markdown",
      "metadata": {
        "id": "TFqUBIf4nC5L"
      },
      "source": [
        "Os dados apresentam diversos níveis de escolaridade e, ao analisá-los, é possível notar a presença de valores ausentes (Na) no conjunto. Faremos o tratamento desses valores posteriormente.\n"
      ]
    },
    {
      "cell_type": "markdown",
      "metadata": {
        "id": "K3S9lgcAno73"
      },
      "source": [
        "**Quais são os tipos de estado_civil disponíveis no dataset?**"
      ]
    },
    {
      "cell_type": "markdown",
      "metadata": {},
      "source": [
        "<img src=\"https://raw.githubusercontent.com/AugustoInData/AugustoInData/refs/heads/main/images/imgens_projeto_analise_de_cr%C3%A9dito_com_sql/5%20-%20estado_civil.PNG\" alt=\"estado_civil\">\n",
        "\n",
        "Query: SELECT DISTINCT estado_civil FROM credito"
      ]
    },
    {
      "cell_type": "markdown",
      "metadata": {
        "id": "2HT8ZU_eoSMp"
      },
      "source": [
        "Vale destacar que foram identificados mais dados nulos na coluna estado_civil"
      ]
    },
    {
      "cell_type": "markdown",
      "metadata": {
        "id": "2DW6WXfVodv_"
      },
      "source": [
        "**Quais são os tipos de salario_anual disponíveis no dataset?**"
      ]
    },
    {
      "cell_type": "markdown",
      "metadata": {},
      "source": [
        "<img src=\"https://raw.githubusercontent.com/AugustoInData/AugustoInData/refs/heads/main/images/imgens_projeto_analise_de_cr%C3%A9dito_com_sql/6%20-%20salario_anual.PNG\" alt=\"salario_anual\">\n",
        "\n",
        "Query: SELECT DISTINCT salario_anual FROM credito"
      ]
    },
    {
      "cell_type": "markdown",
      "metadata": {
        "id": "zlSjuFYkpE3C"
      },
      "source": [
        "Os salários neste dataset não estão representados pelos valores exatos de rendimento dos clientes, mas sim por **faixas salariais**. Além disso, é possível observar a presença de **valores ausentes (Na)** nessa variável também.\n"
      ]
    },
    {
      "cell_type": "markdown",
      "metadata": {
        "id": "QHSVcK-TojzH"
      },
      "source": [
        "**Quais são os tipos de cartão disponíveis no dataset?**"
      ]
    },
    {
      "cell_type": "markdown",
      "metadata": {},
      "source": [
        "<img src=\"https://raw.githubusercontent.com/AugustoInData/AugustoInData/refs/heads/main/images/imgens_projeto_analise_de_cr%C3%A9dito_com_sql/7%20-%20tipo_cartao.PNG\" alt=\"tipo_cartao\">\n",
        "\n",
        "Query: SELECT DISTINCT tipo_cartao FROM credito"
      ]
    },
    {
      "cell_type": "markdown",
      "metadata": {
        "id": "0ub5DpVtpip-"
      },
      "source": [
        "Aqui notamos a existência de 4 categorias de cartão de crédito e a ausência de dados faltantes nessa coluna"
      ]
    },
    {
      "cell_type": "markdown",
      "metadata": {
        "id": "xqSi7lHbp0jW"
      },
      "source": [
        "# Análise de dados"
      ]
    },
    {
      "cell_type": "markdown",
      "metadata": {
        "id": "pZycx3oDz_0f"
      },
      "source": [
        "Depois de explorarmos os dados e compreendermos quais informações estão disponíveis no nosso banco de dados, podemos partir para a análise, buscando identificar padrões e insights. Para isso, começamos fazendo perguntas, como por exemplo:\n",
        "\n",
        "**Quantos clientes existem em cada faixa salarial presente no banco de dados?**\n"
      ]
    },
    {
      "cell_type": "markdown",
      "metadata": {},
      "source": [
        "<img src=\"https://raw.githubusercontent.com/AugustoInData/AugustoInData/refs/heads/main/images/imgens_projeto_analise_de_cr%C3%A9dito_com_sql/8%20-%20quantos%20clientes%20recebem%20determinado%20sal%C3%A1rio.PNG\" alt=\"qtd_clientes_salario\">\n",
        "\n",
        "Query: select count(*), salario_anual from credito group by salario_anual"
      ]
    },
    {
      "cell_type": "markdown",
      "metadata": {
        "id": "ErX6kJvH0Ude"
      },
      "source": [
        "A maior parte dos clientes dessa base apresenta uma renda inferior a 40 mil, e há 235 clientes cuja faixa salarial não foi informada ou não consta no cadastro. Portanto, pode ser estratégico para a empresa direcionar esforços e ações para o público de menor renda."
      ]
    },
    {
      "cell_type": "markdown",
      "metadata": {
        "id": "p1QvpMUDe3UU"
      },
      "source": [
        "**Nesse banco de dados, quantos clientes são homens e quantos são mulheres?**"
      ]
    },
    {
      "cell_type": "markdown",
      "metadata": {},
      "source": [
        "<img src=\"https://raw.githubusercontent.com/AugustoInData/AugustoInData/refs/heads/main/images/imgens_projeto_analise_de_cr%C3%A9dito_com_sql/9%20-%20qtd%20homens%20e%20mulheres.PNG\" alt=\"qtd_homens_mulheres\">\n",
        "\n",
        "Query: select count(*) as qtd_genero, sexo from credito group by sexo"
      ]
    },
    {
      "cell_type": "markdown",
      "metadata": {
        "id": "s5_m_pMAkwL9"
      },
      "source": [
        "![10 - gráfico.PNG](data:image/png;base64,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)"
      ]
    },
    {
      "cell_type": "markdown",
      "metadata": {
        "id": "BBB6PdPJoNXr"
      },
      "source": [
        "Os clientes do sexo masculino são a maioria! Do csv extraído dos dados é possível gerar o gráfico em pizza para melhorar a visualização da proporção de masculino/feminino"
      ]
    },
    {
      "cell_type": "markdown",
      "metadata": {
        "id": "JsmI0tSyobz9"
      },
      "source": [
        "**Queremos focar o nosso marketing de maneira adequada para nossos clientes, qual será a idade deles?**"
      ]
    },
    {
      "cell_type": "markdown",
      "metadata": {},
      "source": [
        "<img src=\"https://raw.githubusercontent.com/AugustoInData/AugustoInData/refs/heads/main/images/imgens_projeto_analise_de_cr%C3%A9dito_com_sql/11.PNG\" alt=\"media_idades\">\n",
        "\n",
        "Query: select avg(idade) as media_idade, min(idade) as min_idade, max(idade) as max_idade, sexo from credito group by sexo"
      ]
    },
    {
      "cell_type": "markdown",
      "metadata": {
        "id": "zq6R_lJypLYH"
      },
      "source": [
        "Por meio dessa análise não foi possível extrair nenhuma informação relevante. A menor idade dos dois sexos é a mesma e a média é muito similar. A unica diferença é a idade máxima mas fato quase irrelevante por a diferença não é tão gritante."
      ]
    },
    {
      "cell_type": "markdown",
      "metadata": {
        "id": "cswxuyK6ofRB"
      },
      "source": [
        "**Qual a maior e menor transação dos clientes?**"
      ]
    },
    {
      "cell_type": "markdown",
      "metadata": {},
      "source": [
        "<img src=\"https://raw.githubusercontent.com/AugustoInData/AugustoInData/refs/heads/main/images/imgens_projeto_analise_de_cr%C3%A9dito_com_sql/12.PNG\" alt=\"maior_menor_transacao\">\n",
        "\n",
        "Query: select min(valor_transacoes_12m) as transacao_minima, max(valor_transacoes_12m) as transacao_minima from credito"
      ]
    },
    {
      "cell_type": "markdown",
      "metadata": {
        "id": "qeNVLuE8qBGH"
      },
      "source": [
        "Nesse banco de dados temos soma de transações em 12 meses variam de 510.16 a 5776.58"
      ]
    },
    {
      "cell_type": "markdown",
      "metadata": {
        "id": "KXhYPzmZojEm"
      },
      "source": [
        "**Quais as características dos clientes que possuem os maiores creditos?**"
      ]
    },
    {
      "cell_type": "markdown",
      "metadata": {},
      "source": [
        "<img src=\"https://raw.githubusercontent.com/AugustoInData/AugustoInData/refs/heads/main/images/imgens_projeto_analise_de_cr%C3%A9dito_com_sql/13.PNG\" alt=\"maiores_creditos\">\n",
        "\n",
        "Query: select max(limite_credito) as limite_credito, escolaridade, tipo_cartao, sexo from credito where escolaridade != 'na' and tipo_cartao != 'na' group by escolaridade, tipo_cartao, sexo order by limite_credito desc limit 10"
      ]
    },
    {
      "cell_type": "markdown",
      "metadata": {
        "id": "2vCW1Ks3qlU1"
      },
      "source": [
        "Não parece haver um impacto da escolaridade no limite. O limite mais alto é oferecido para um homem sem educação formal. O cartão também parece não estar relacionado com a escolaridade nem com o limite. Dentre os maiores limites, encontramos clientes com cartão: gold, silver, platinum e blue"
      ]
    },
    {
      "cell_type": "markdown",
      "metadata": {
        "id": "4oXs7VVOomtS"
      },
      "source": [
        "**Quais as características dos clientes que possuem os menores creditos?**"
      ]
    },
    {
      "cell_type": "markdown",
      "metadata": {},
      "source": [
        "<img src=\"https://raw.githubusercontent.com/AugustoInData/AugustoInData/refs/heads/main/images/imgens_projeto_analise_de_cr%C3%A9dito_com_sql/14.PNG\" alt=\"menores_creditos\">\n",
        "\n",
        "Query: select max(limite_credito) as limite_credito, escolaridade, tipo_cartao, sexo from credito where escolaridade != 'na' and tipo_cartao != 'na' group by escolaridade, tipo_cartao, sexo order by limite_credito asc"
      ]
    },
    {
      "cell_type": "markdown",
      "metadata": {
        "id": "QhoOKNJ7rfM3"
      },
      "source": [
        "Dessa vez conseguimos perceber que não há clientes com cartão platinum dentre os menores limites. Também foi possível perceber que a maioria dos menores limites são mulheres enquanto nos maiores limites predomina homens."
      ]
    },
    {
      "cell_type": "markdown",
      "metadata": {
        "id": "zPlYF1I9oq22"
      },
      "source": [
        "**Será que as mulheres gastam mais?**"
      ]
    },
    {
      "cell_type": "markdown",
      "metadata": {},
      "source": [
        "<img src=\"https://raw.githubusercontent.com/AugustoInData/AugustoInData/refs/heads/main/images/imgens_projeto_analise_de_cr%C3%A9dito_com_sql/15.PNG\" alt=\"gasto_mulheres\">\n",
        "\n",
        "Query: select max(valor_transacoes_12m) as maior_valor_gasto, avg(valor_transacoes_12m) as media_valor_gasto, min(valor_transacoes_12m) as min_valor_gasto, sexo from credito group by sexo"
      ]
    },
    {
      "cell_type": "markdown",
      "metadata": {
        "id": "Fb3NAak6r4OW"
      },
      "source": [
        "Apesar da diferença nos limites, os gastos de homens e mulheres são similares!"
      ]
    },
    {
      "cell_type": "markdown",
      "metadata": {
        "id": "siCTKTrxou0-"
      },
      "source": [
        "**O salário impacta no limite?**"
      ]
    },
    {
      "cell_type": "markdown",
      "metadata": {},
      "source": [
        "<img src=\"https://raw.githubusercontent.com/AugustoInData/AugustoInData/refs/heads/main/images/imgens_projeto_analise_de_cr%C3%A9dito_com_sql/16.PNG\" alt=\"salario_limite\">\n",
        "\n",
        "Query: select avg(qtd_produtos) as qts_produtos, avg(valor_transacoes_12m) as media_valor_transacoes, avg(limite_credito) as media_limite, sexo, salario_anual from credito where salario_anual != 'na' group by sexo, salario_anual order by avg(valor_transacoes_12m) desc"
      ]
    },
    {
      "cell_type": "markdown",
      "metadata": {
        "id": "VZdQa9JQtm45"
      },
      "source": [
        "Sim, quanto maior o salário maior o limite de crédito. Vale destacar que as pessoas que tem menor faixa salarial também apresentam menor limite de credito!"
      ]
    },
    {
      "cell_type": "markdown",
      "metadata": {
        "id": "-85bWj0VtzGa"
      },
      "source": [
        "# Conclusão"
      ]
    },
    {
      "cell_type": "markdown",
      "metadata": {
        "id": "nGUFANGiuUhR"
      },
      "source": [
        "As análises extraídas do **dataset de crédito** revelam padrões claros, especialmente em relação à **renda** e ao **gênero** dos clientes.\n",
        "\n",
        "### Principais Padrões Observados:\n",
        "\n",
        "* **Renda e Perfil da Base:** A **maioria** da base de clientes possui **renda anual de até \\$40K**, indicando que o portfólio de crédito é predominantemente de classe média ou abaixo. Além disso, a base é majoritariamente **masculina**.\n",
        "* **Impacto da Renda:** A **faixa salarial impacta diretamente o limite de crédito** concedido. Clientes com renda mais alta tendem a ter limites maiores.\n",
        "* **Influência do Gênero no Limite e Produtos:**\n",
        "    * Há uma disparidade notável nos limites de crédito por gênero: clientes com os **maiores limites são predominantemente homens**, enquanto clientes com os **menores limites são majoritariamente mulheres**.\n",
        "    * Essa disparidade se reflete nos produtos: o **cartão Platinum** está ausente entre os clientes com os menores limites (maioria feminina).\n",
        "    * A base de clientes **não possui mulheres** com um salário anual **acima de \\$60K**, o que é um fator chave para a concentração de altos limites no público masculino.\n",
        "\n",
        "---\n",
        "\n",
        "### Insights e Próximos Passos:\n",
        "\n",
        "Enquanto a **escolaridade não demonstrou influenciar** o limite ou o tipo de cartão, o **gênero** e a **renda** são as variáveis mais decisivas.\n",
        "\n",
        "É fundamental aprofundar a investigação sobre a ausência de clientes femininas na faixa salarial mais alta. Essa correlação entre gênero, teto salarial e limites de crédito sugere a necessidade de examinar as **políticas de aquisição** e os **critérios de avaliação de crédito** para garantir que sejam **equitativas** e para identificar oportunidades de expandir a oferta de produtos *premium* para clientes femininas de alto potencial.\n",
        "\n",
        "Essa análise serve como um ponto de partida para revisões estratégicas focadas em **diversidade de clientes** e **otimização da concessão de crédito**."
      ]
    },
    {
      "cell_type": "code",
      "execution_count": null,
      "metadata": {
        "id": "Nm0dIGx-ubcg"
      },
      "outputs": [],
      "source": []
    }
  ],
  "metadata": {
    "colab": {
      "provenance": []
    },
    "kernelspec": {
      "display_name": "Python 3",
      "name": "python3"
    },
    "language_info": {
      "name": "python",
      "version": "3.13.5"
    }
  },
  "nbformat": 4,
  "nbformat_minor": 0
}
